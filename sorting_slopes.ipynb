{
 "cells": [
  {
   "cell_type": "code",
   "execution_count": 1,
   "id": "cfa70698-d668-4cab-bc64-d5a7fb4722a5",
   "metadata": {},
   "outputs": [],
   "source": [
    "import pandas as pd\n",
    "import numpy as np"
   ]
  },
  {
   "cell_type": "code",
   "execution_count": 14,
   "id": "0fc79706-946e-4f7e-8d7a-74e4a0ad0a97",
   "metadata": {},
   "outputs": [
    {
     "name": "stdout",
     "output_type": "stream",
     "text": [
      "Out of 226 total slopes:\n",
      "  215 were above zero\n",
      "  11 were below zero\n",
      "  0 were equal to zero\n",
      "  2 values were NaN\n"
     ]
    }
   ],
   "source": [
    "#Read in the slope table\n",
    "#replace slopes_table.csv with your file\n",
    "slopes = pd.read_csv(\"slopes_table.csv\", index_col=0)\n",
    "\n",
    "# Containers for results\n",
    "positive_data = []\n",
    "negative_data = []\n",
    "zero_data = []\n",
    "nan_count = 0\n",
    "\n",
    "# Loop through SNe and slopes\n",
    "for sn_name, row in slopes.iterrows():\n",
    "    for filter_name, slope in row.items():\n",
    "        if pd.isna(slope):\n",
    "            nan_count += 1\n",
    "            continue\n",
    "\n",
    "        entry = {\"SN Name\": sn_name, \"Filter\": filter_name, \"Slope\": slope}\n",
    "\n",
    "        if slope > 0:\n",
    "            positive_data.append(entry)\n",
    "        elif slope < 0:\n",
    "            negative_data.append(entry)\n",
    "        else:  # slope == 0\n",
    "            zero_data.append(entry)\n",
    "\n",
    "# Convert lists into DataFrames\n",
    "positive_slopes = pd.DataFrame(positive_data)\n",
    "negative_slopes = pd.DataFrame(negative_data)\n",
    "zero_slopes = pd.DataFrame(zero_data)\n",
    "\n",
    "# Save out to CSV\n",
    "positive_slopes.to_csv(\"positive_slopes.csv\", index=False)\n",
    "negative_slopes.to_csv(\"negative_slopes.csv\", index=False)\n",
    "zero_slopes.to_csv(\"zero_slopes.csv\", index=False)\n",
    "\n",
    "# Summary printouts\n",
    "total_count = len(slopes) * len(slopes.columns)\n",
    "valid_count = total_count - nan_count\n",
    "\n",
    "print(f\"Out of {valid_count} total slopes:\")\n",
    "print(f\"  {len(positive_df)} were above zero\")\n",
    "print(f\"  {len(negative_df)} were below zero\")\n",
    "print(f\"  {len(zero_df)} were equal to zero\")\n",
    "print(f\"  {nan_count} values were NaN\")\n"
   ]
  },
  {
   "cell_type": "code",
   "execution_count": null,
   "id": "2d1e91f4-d5f3-411b-909a-2a12a16b8fc9",
   "metadata": {},
   "outputs": [],
   "source": [
    "print(p"
   ]
  }
 ],
 "metadata": {
  "kernelspec": {
   "display_name": "Python [conda env:base] *",
   "language": "python",
   "name": "conda-base-py"
  },
  "language_info": {
   "codemirror_mode": {
    "name": "ipython",
    "version": 3
   },
   "file_extension": ".py",
   "mimetype": "text/x-python",
   "name": "python",
   "nbconvert_exporter": "python",
   "pygments_lexer": "ipython3",
   "version": "3.13.5"
  }
 },
 "nbformat": 4,
 "nbformat_minor": 5
}
